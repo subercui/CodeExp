{
 "cells": [
  {
   "cell_type": "code",
   "execution_count": 1,
   "metadata": {},
   "outputs": [],
   "source": [
    "from rouge import Rouge\n",
    "import json\n",
    "import os\n",
    "import pandas as pd\n",
    "from radon.complexity import cc_visit"
   ]
  },
  {
   "cell_type": "code",
   "execution_count": 2,
   "metadata": {},
   "outputs": [
    {
     "data": {
      "text/plain": [
       "'/home/v-haotiancui/NL2Code/Copilot-2/dataset'"
      ]
     },
     "execution_count": 2,
     "metadata": {},
     "output_type": "execute_result"
    }
   ],
   "source": [
    "DATASET = 'all'\n",
    "current_dir = os.getcwd()\n",
    "root_dir = os.path.dirname(current_dir)\n",
    "root_dir"
   ]
  },
  {
   "cell_type": "markdown",
   "metadata": {},
   "source": [
    "# Read raw files"
   ]
  },
  {
   "cell_type": "code",
   "execution_count": 3,
   "metadata": {},
   "outputs": [],
   "source": [
    "raw_file = \"/home/v-haotiancui/NL2Code/Copilot-2/dataset/pycodesuggest/scripts_by_code_doc_corpus/data_stars_gt60/code_doc.jsonl\""
   ]
  },
  {
   "cell_type": "code",
   "execution_count": 4,
   "metadata": {},
   "outputs": [],
   "source": [
    "# read jsonl file\n",
    "with open(raw_file, 'r') as f:\n",
    "    data = [json.loads(line) for line in f]"
   ]
  },
  {
   "cell_type": "code",
   "execution_count": 5,
   "metadata": {},
   "outputs": [],
   "source": [
    "# for d in data:\n",
    "#     print(d['funcdef']+'\\n'+d['funcbody'])\n",
    "#     print('\\nThe docstring:\\n------------\\n')\n",
    "#     print(d['docstring'])\n",
    "#     print('\\n\\n\\n')"
   ]
  },
  {
   "cell_type": "markdown",
   "metadata": {},
   "source": [
    "# Generate the training data format"
   ]
  },
  {
   "cell_type": "code",
   "execution_count": 6,
   "metadata": {},
   "outputs": [],
   "source": [
    "codes = [d['funcdef']+'\\n'+d['funcbody'] for d in data]\n",
    "docstrings = [d['docstring'] for d in data]\n",
    "\n",
    "source_texts, target_texts = codes, docstrings\n",
    "\n",
    "texts = []\n",
    "for i in range(len(source_texts)):\n",
    "    texts.append(\n",
    "        \"# Python 3 \\n\"\n",
    "        + source_texts[i]\n",
    "        + '\\n\\n\"\"\"Explanation of what the code does: \\n'\n",
    "        + target_texts[i]\n",
    "        + '\\n\"\"\"'\n",
    "    )"
   ]
  },
  {
   "cell_type": "code",
   "execution_count": 7,
   "metadata": {},
   "outputs": [
    {
     "data": {
      "text/plain": [
       "306290"
      ]
     },
     "execution_count": 7,
     "metadata": {},
     "output_type": "execute_result"
    }
   ],
   "source": [
    "len(texts)"
   ]
  },
  {
   "cell_type": "code",
   "execution_count": 9,
   "metadata": {},
   "outputs": [],
   "source": [
    "# save jsonl file\n",
    "data_file = \"/home/v-haotiancui/NL2Code/Copilot-2/code2text/GPT-J/data/GithubCodeDoc.train.jsonl\"\n",
    "if not os.path.exists(data_file):\n",
    "    with open(data_file, \"w\") as f:\n",
    "        for text in texts:\n",
    "            f.write(json.dumps({\"text\": text}) + \"\\n\")"
   ]
  },
  {
   "cell_type": "code",
   "execution_count": 16,
   "metadata": {},
   "outputs": [
    {
     "name": "stdout",
     "output_type": "stream",
     "text": [
      "# Python 3 \n",
      "def normalizeTitle(title):\n",
      "    title = title.strip(' _')\n",
      "    title = re.sub('[\\\\s_]+', ' ', title)\n",
      "    m = re.match('([^:]*):(\\\\s*)(\\\\S(?:.*))', title)\n",
      "    if m:\n",
      "        prefix = m.group(1)\n",
      "        if m.group(2):\n",
      "            optionalWhitespace = ' '\n",
      "        else:\n",
      "            optionalWhitespace = ''\n",
      "        rest = m.group(3)\n",
      "        ns = normalizeNamespace(prefix)\n",
      "        if (ns in options.knownNamespaces):\n",
      "            title = ((ns + ':') + ucfirst(rest))\n",
      "        else:\n",
      "            title = (((ucfirst(prefix) + ':') + optionalWhitespace) + ucfirst(rest))\n",
      "    else:\n",
      "        title = ucfirst(title)\n",
      "    return title\n",
      "\n",
      "\n",
      "\"\"\"Explanation of what the code does: \n",
      "Normalize title\n",
      "\"\"\"\n"
     ]
    }
   ],
   "source": [
    "print(texts[0])"
   ]
  },
  {
   "cell_type": "code",
   "execution_count": null,
   "metadata": {},
   "outputs": [],
   "source": []
  }
 ],
 "metadata": {
  "interpreter": {
   "hash": "5a47bc436338522316c19d32302f1310671eb64ce2c075643d095463d867d9ed"
  },
  "kernelspec": {
   "display_name": "Python 3.8.5 64-bit ('copilot-2-PO7iTfBn-py3.8': poetry)",
   "name": "python3"
  },
  "language_info": {
   "codemirror_mode": {
    "name": "ipython",
    "version": 3
   },
   "file_extension": ".py",
   "mimetype": "text/x-python",
   "name": "python",
   "nbconvert_exporter": "python",
   "pygments_lexer": "ipython3",
   "version": "3.8.5"
  },
  "orig_nbformat": 4
 },
 "nbformat": 4,
 "nbformat_minor": 2
}
