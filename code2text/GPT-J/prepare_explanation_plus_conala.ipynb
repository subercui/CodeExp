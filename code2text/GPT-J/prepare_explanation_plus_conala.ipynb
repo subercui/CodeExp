{
 "cells": [
  {
   "cell_type": "code",
   "execution_count": 1,
   "metadata": {},
   "outputs": [],
   "source": [
    "import json\n",
    "import os\n",
    "import pandas as pd"
   ]
  },
  {
   "cell_type": "code",
   "execution_count": 27,
   "metadata": {},
   "outputs": [
    {
     "data": {
      "text/plain": [
       "\"\\n[{'intent': 'How can I send a signal from a python program?',\\n  'rewritten_intent': 'send a signal `signal.SIGUSR1` to the current process',\\n  'snippet': 'os.kill(os.getpid(), signal.SIGUSR1)',\\n  'question_id': 15080500},\\n  ...\\n]\\n\""
      ]
     },
     "execution_count": 27,
     "metadata": {},
     "output_type": "execute_result"
    }
   ],
   "source": [
    "conala_file = \"/home/v-haotiancui/NL2Code/Copilot-2/dataset/conala-corpus/conala-curated-all.json\"\n",
    "# read json file\n",
    "with open(conala_file, \"r\") as f:\n",
    "    data = json.load(f)\n",
    "\"\"\"\n",
    "[{'intent': 'How can I send a signal from a python program?',\n",
    "  'rewritten_intent': 'send a signal `signal.SIGUSR1` to the current process',\n",
    "  'snippet': 'os.kill(os.getpid(), signal.SIGUSR1)',\n",
    "  'question_id': 15080500},\n",
    "  ...\n",
    "]\n",
    "\"\"\""
   ]
  },
  {
   "cell_type": "code",
   "execution_count": 28,
   "metadata": {},
   "outputs": [],
   "source": [
    "conala_texts = []\n",
    "for d in data:\n",
    "    if d[\"rewritten_intent\"]:\n",
    "        intent = d[\"rewritten_intent\"]\n",
    "    else:\n",
    "        if d[\"intent\"]:\n",
    "            intent = d[\"intent\"]\n",
    "        else:\n",
    "            break\n",
    "    if len(d[\"snippet\"]) <= 0:\n",
    "        break\n",
    "    conala_texts.append(\n",
    "        \"# Python 3 \\n\"\n",
    "        + d[\"snippet\"]\n",
    "        + '\\n\\n\"\"\"Explanation of what the code does: \\n'\n",
    "        + intent\n",
    "        + '\"\"\"'\n",
    "    )"
   ]
  },
  {
   "cell_type": "code",
   "execution_count": 29,
   "metadata": {},
   "outputs": [
    {
     "data": {
      "text/plain": [
       "2879"
      ]
     },
     "execution_count": 29,
     "metadata": {},
     "output_type": "execute_result"
    }
   ],
   "source": [
    "len(conala_texts)"
   ]
  },
  {
   "cell_type": "markdown",
   "metadata": {},
   "source": [
    "# Generate the Annotated Explanation data"
   ]
  },
  {
   "cell_type": "code",
   "execution_count": 30,
   "metadata": {},
   "outputs": [],
   "source": [
    "# the annotated explanations\n",
    "raw_data_file = \"/home/v-haotiancui/NL2Code/Copilot-2/dataset/ExplanationAnnotated.json\"\n",
    "with open(raw_data_file, \"r\") as f:\n",
    "    data = json.load(f)\n",
    "docstrings = []\n",
    "codes = []\n",
    "step1_scores = [int(d[\"step1\"]) if len(d[\"step1\"])>0 else 0 for d in data]\n",
    "\n",
    "for i, s in enumerate(step1_scores):\n",
    "    if s >= 2:\n",
    "        docstrings.append(data[i][\"docstring\"])\n",
    "        codes.append(data[i][\"code\"])\n",
    "\n",
    "source_texts, target_texts = codes, docstrings\n",
    "\n",
    "texts = []\n",
    "for i in range(len(source_texts)):\n",
    "    texts.append(\n",
    "        \"# Python 3 \\n\"\n",
    "        + source_texts[i]\n",
    "        + '\\n\\n\"\"\"Explanation of what the code does: \\n'\n",
    "        + target_texts[i]\n",
    "        + '\"\"\"'\n",
    "    )"
   ]
  },
  {
   "cell_type": "code",
   "execution_count": 31,
   "metadata": {},
   "outputs": [],
   "source": [
    "# # the code-docstring data\n",
    "# raw_data_file = \"/home/v-haotiancui/NL2Code/Copilot-2/dataset/QualifiedExplanations.train.csv\"\n",
    "# df = pd.read_csv(raw_data_file)\n",
    "# source_texts, target_texts = (\n",
    "#     df[\"reference_code\"].tolist(),\n",
    "#     df[\"description\"].tolist(),\n",
    "# )\n",
    "\n",
    "# texts = []\n",
    "# for i in range(len(source_texts)):\n",
    "#     texts.append(\n",
    "#         \"# Python 3 \\n\"\n",
    "#         + source_texts[i]\n",
    "#         + '\\n\\n\"\"\"Explanation of what the code does: \\n'\n",
    "#         + target_texts[i]\n",
    "#         + '\"\"\"'\n",
    "#     )"
   ]
  },
  {
   "cell_type": "code",
   "execution_count": 32,
   "metadata": {},
   "outputs": [
    {
     "data": {
      "text/plain": [
       "12455"
      ]
     },
     "execution_count": 32,
     "metadata": {},
     "output_type": "execute_result"
    }
   ],
   "source": [
    "len(texts)"
   ]
  },
  {
   "cell_type": "code",
   "execution_count": 33,
   "metadata": {},
   "outputs": [],
   "source": [
    "# save jsonl file\n",
    "data_file = \"/home/v-haotiancui/NL2Code/Copilot-2/code2text/GPT-J/data/AnnotatedExplanations.train.jsonl\"\n",
    "if not os.path.exists(data_file):\n",
    "    with open(data_file, \"w\") as f:\n",
    "        for text in texts:\n",
    "            f.write(json.dumps({\"text\": text}) + \"\\n\")"
   ]
  },
  {
   "cell_type": "markdown",
   "metadata": {},
   "source": [
    "# Append mode 2 data\n",
    "\n",
    "mode 2 inference - prompt in few-shot learning setting to generate explanation for specific code blocks:\n",
    " \n",
    "> xxx(code context), in the above code, how does the code block xxx (a block) works?   "
   ]
  },
  {
   "cell_type": "code",
   "execution_count": 33,
   "metadata": {},
   "outputs": [],
   "source": [
    "# step2_scores = [int(d[\"step2\"]) if len(d[\"step2\"])>0 else 0 for d in data]\n",
    "mode2_texts = []\n",
    "for i, d in enumerate(data):\n",
    "    if step1_scores[i] >=2 and len(d[\"match\"]) > 0:\n",
    "        code = d[\"code\"]\n",
    "        docstring = d[\"docstring\"]\n",
    "        for m in d[\"match\"]:\n",
    "            selected_code = m[\"selectedCode\"]\n",
    "            selected_doc = m[\"selectedDoc\"]\n",
    "            mode2_texts.append(\n",
    "                \"# Python 3 \\n\"\n",
    "                + code\n",
    "                + '\\n\\n\"\"\"in the above code, explain what the code block \\n'\n",
    "                + selected_code\n",
    "                + '\\n does: \\n'\n",
    "                + selected_doc\n",
    "                + '\"\"\"'\n",
    "            )"
   ]
  },
  {
   "cell_type": "code",
   "execution_count": 35,
   "metadata": {},
   "outputs": [
    {
     "data": {
      "text/plain": [
       "17543"
      ]
     },
     "execution_count": 35,
     "metadata": {},
     "output_type": "execute_result"
    }
   ],
   "source": [
    "texts = texts + mode2_texts\n",
    "len(texts)"
   ]
  },
  {
   "cell_type": "code",
   "execution_count": 36,
   "metadata": {},
   "outputs": [],
   "source": [
    "# save jsonl file\n",
    "data_file = \"/home/v-haotiancui/NL2Code/Copilot-2/code2text/GPT-J/data/AnnotatedExplanationsPlusMode2.train.jsonl\"\n",
    "if not os.path.exists(data_file):\n",
    "    with open(data_file, \"w\") as f:\n",
    "        for text in texts:\n",
    "            f.write(json.dumps({\"text\": text}) + \"\\n\")"
   ]
  },
  {
   "cell_type": "markdown",
   "metadata": {},
   "source": [
    "# Explanation plus Conala"
   ]
  },
  {
   "cell_type": "code",
   "execution_count": null,
   "metadata": {},
   "outputs": [],
   "source": [
    "texts = conala_texts + texts\n",
    "len(texts)"
   ]
  },
  {
   "cell_type": "code",
   "execution_count": null,
   "metadata": {},
   "outputs": [],
   "source": [
    "# # save jsonl file\n",
    "# data_file = \"/home/v-haotiancui/NL2Code/Copilot-2/code2text/GPT-J/data/ExpanationsPlusConala.train.jsonl\"\n",
    "# with open(data_file, \"w\") as f:\n",
    "#     for text in texts:\n",
    "#         f.write(json.dumps({\"text\": text}) + \"\\n\")"
   ]
  },
  {
   "cell_type": "code",
   "execution_count": null,
   "metadata": {},
   "outputs": [],
   "source": [
    "# save jsonl file\n",
    "data_file = \"/home/v-haotiancui/NL2Code/Copilot-2/code2text/GPT-J/data/AnnotatedExplanationsPlusConala.train.jsonl\"\n",
    "with open(data_file, \"w\") as f:\n",
    "    for text in texts:\n",
    "        f.write(json.dumps({\"text\": text}) + \"\\n\")"
   ]
  },
  {
   "cell_type": "markdown",
   "metadata": {},
   "source": [
    "# Process and add the APPS data"
   ]
  },
  {
   "cell_type": "markdown",
   "metadata": {},
   "source": [
    "# [OPTIONAL] analyze the annotated explanation data"
   ]
  },
  {
   "cell_type": "code",
   "execution_count": 4,
   "metadata": {},
   "outputs": [],
   "source": [
    "# the annotated explanations\n",
    "raw_data_file = \"/home/v-haotiancui/NL2Code/Copilot-2/dataset/ExplanationAnnotated.json\"\n",
    "with open(raw_data_file, \"r\") as f:\n",
    "    data = json.load(f)"
   ]
  },
  {
   "cell_type": "code",
   "execution_count": 5,
   "metadata": {},
   "outputs": [
    {
     "data": {
      "text/plain": [
       "13186"
      ]
     },
     "execution_count": 5,
     "metadata": {},
     "output_type": "execute_result"
    }
   ],
   "source": [
    "len(data)"
   ]
  },
  {
   "cell_type": "code",
   "execution_count": 6,
   "metadata": {},
   "outputs": [
    {
     "data": {
      "text/plain": [
       "Text(0.5, 1.0, 'Histogram of step1 scores (general quality), avg=2.52')"
      ]
     },
     "execution_count": 6,
     "metadata": {},
     "output_type": "execute_result"
    },
    {
     "data": {
      "image/png": "[encoded data removed]",
      "text/plain": [
       "<Figure size 700x500 with 1 Axes>"
      ]
     },
     "metadata": {
      "needs_background": "light"
     },
     "output_type": "display_data"
    }
   ],
   "source": [
    "# show histogram of step1 scores\n",
    "from matplotlib import pyplot as plt\n",
    "step1_scores = [int(d[\"step1\"]) if len(d[\"step1\"])>0 else 0 for d in data]\n",
    "avg_step1_score = sum(step1_scores) / len(step1_scores)\n",
    "plt.figure(figsize=(7, 5), dpi=100)\n",
    "plt.hist(step1_scores, bins=20)\n",
    "plt.xlabel(\"step1 score\")\n",
    "plt.ylabel(\"frequency\")\n",
    "plt.title(f\"Histogram of step1 scores (general quality), avg={avg_step1_score:.2f}\")"
   ]
  },
  {
   "cell_type": "code",
   "execution_count": 7,
   "metadata": {},
   "outputs": [
    {
     "data": {
      "text/plain": [
       "Text(0.5, 1.0, 'Histogram of step2 scores (branch coverage), avg 1.41')"
      ]
     },
     "execution_count": 7,
     "metadata": {},
     "output_type": "execute_result"
    },
    {
     "data": {
      "image/png": "[encoded data removed]",
      "text/plain": [
       "<Figure size 700x500 with 1 Axes>"
      ]
     },
     "metadata": {
      "needs_background": "light"
     },
     "output_type": "display_data"
    }
   ],
   "source": [
    "# show histogram of step2 scores\n",
    "step2_scores = [int(d[\"step2\"]) if len(d[\"step2\"]) > 0 else 4 for d in data]\n",
    "avg_step2_score = sum(step2_scores) / len(step2_scores)\n",
    "plt.figure(figsize=(7, 5), dpi=100)\n",
    "plt.hist(step2_scores, bins=20)\n",
    "plt.xlabel(\"step2 score\")\n",
    "plt.ylabel(\"frequency\")\n",
    "plt.title(f\"Histogram of step2 scores (branch coverage), avg {avg_step2_score:.2f}\")"
   ]
  },
  {
   "cell_type": "code",
   "execution_count": 11,
   "metadata": {},
   "outputs": [
    {
     "name": "stdout",
     "output_type": "stream",
     "text": [
      "# of examples with step2 score >= 2: 5498\n",
      "# of examples with step1 score >= 2: 12367\n"
     ]
    }
   ],
   "source": [
    "print(f\"# of examples with step2 score >= 2: {sum(s >= 2 for s in step2_scores)}\")\n",
    "print(f'# of examples with step1 score >= 2: {sum(s >= 2 for s in step1_scores)}')"
   ]
  },
  {
   "cell_type": "code",
   "execution_count": 10,
   "metadata": {},
   "outputs": [
    {
     "name": "stdout",
     "output_type": "stream",
     "text": [
      "avg num of match: 0.56\n",
      "count of non-zero match: 4619.00\n",
      "avg num of non-zero match: 1.61\n"
     ]
    }
   ],
   "source": [
    "# show num of match\n",
    "num_match = [len(d[\"match\"]) for d in data]\n",
    "avg_num_match = sum(num_match) / len(num_match)\n",
    "print(f\"avg num of match: {avg_num_match:.2f}\")\n",
    "\n",
    "# count non zero matches\n",
    "non_zero_match = [n for n in num_match if n > 0]\n",
    "print(f\"count of non-zero match: {len(non_zero_match):.2f}\")\n",
    "print(f\"avg num of non-zero match: {sum(non_zero_match) / len(non_zero_match):.2f}\")\n"
   ]
  },
  {
   "cell_type": "markdown",
   "metadata": {},
   "source": [
    "## save subset of the data\n",
    "We filter the data to the subset of high quality examples, which have step1 scores > 1 and step2 scores > 1."
   ]
  },
  {
   "cell_type": "code",
   "execution_count": 12,
   "metadata": {},
   "outputs": [
    {
     "data": {
      "text/plain": [
       "5338"
      ]
     },
     "execution_count": 12,
     "metadata": {},
     "output_type": "execute_result"
    }
   ],
   "source": [
    "high_quality_data = []\n",
    "for i,d in enumerate(data):\n",
    "    if step1_scores[i] >= 2 and step2_scores[i] >= 2:\n",
    "        high_quality_data.append(d)\n",
    "\n",
    "len(high_quality_data)"
   ]
  },
  {
   "cell_type": "code",
   "execution_count": 13,
   "metadata": {},
   "outputs": [],
   "source": [
    "# save json file\n",
    "output_file = \"/home/v-haotiancui/NL2Code/Copilot-2/dataset/ExplanationAnnotatedHighQuality.json\"\n",
    "if not os.path.exists(output_file):\n",
    "    with open(output_file, \"w\") as f:\n",
    "        json.dump(high_quality_data, f)\n"
   ]
  },
  {
   "cell_type": "markdown",
   "metadata": {},
   "source": [
    "## show top cases"
   ]
  },
  {
   "cell_type": "code",
   "execution_count": 24,
   "metadata": {},
   "outputs": [],
   "source": [
    "# rank by step1 score\n",
    "import numpy as np\n",
    "step1_scores = np.array(step1_scores)\n",
    "idx = step1_scores.argsort()[::-1]"
   ]
  },
  {
   "cell_type": "code",
   "execution_count": 25,
   "metadata": {},
   "outputs": [],
   "source": [
    "max_data = data[idx[0]]\n",
    "min_data = data[idx[-1]]"
   ]
  },
  {
   "cell_type": "code",
   "execution_count": 29,
   "metadata": {},
   "outputs": [
    {
     "name": "stdout",
     "output_type": "stream",
     "text": [
      "def context(style, after_reset=False): \n",
      "   initial_settings = mpl.rcParams.copy() \n",
      "   if after_reset: \n",
      "      mpl.rcdefaults() \n",
      "   try: \n",
      "      use(style) \n",
      "   except: \n",
      "      mpl.rcParams.update(initial_settings) \n",
      "      raise \n",
      "   else: \n",
      "      (yield) \n",
      "   finally: \n",
      "      mpl.rcParams.update(initial_settings) \n",
      "\n",
      "docstring:\n",
      " Context manager for using style settings temporarily. \n",
      " Parameters \n",
      " style : str, dict, or list \n",
      " A style specification. Valid options are: \n",
      " | str  | The name of a style or a path/URL to a style file. For a    | \n",
      " |      | list of available style names, see `style.available`.       | \n",
      " | dict | Dictionary with valid key/value pairs for                   | \n",
      " |      | `matplotlib.rcParams`.                                      | \n",
      " | list | A list of style specifiers (str or dict) applied from first | \n",
      " |      | to last in the list.                                        | \n",
      " after_reset : bool \n",
      " If True, apply style after resetting settings to their defaults; \n",
      " otherwise, apply style on top of the current settings.\n"
     ]
    }
   ],
   "source": [
    "print(max_data[\"code\"], \"\\n\\ndocstring:\\n\", max_data[\"docstring\"])"
   ]
  },
  {
   "cell_type": "code",
   "execution_count": 31,
   "metadata": {},
   "outputs": [
    {
     "name": "stdout",
     "output_type": "stream",
     "text": [
      "def p_expression_binop(t): \n",
      "   if (t[2] == '+'): \n",
      "      t[0] = (t[1] + t[3]) \n",
      "   elif (t[2] == '-'): \n",
      "      t[0] = (t[1] - t[3]) \n",
      "   elif (t[2] == '*'): \n",
      "      t[0] = (t[1] * t[3]) \n",
      "   elif (t[2] == '/'): \n",
      "      t[0] = (t[1] / t[3]) \n",
      "\n",
      "docstring:\n",
      " expression : expression PLUS expression \n",
      " expression MINUS expression \n",
      " | expression TIMES expression \n",
      " | expression DIVIDE expression\n"
     ]
    }
   ],
   "source": [
    "print(min_data[\"code\"], \"\\n\\ndocstring:\\n\", min_data[\"docstring\"])"
   ]
  }
 ],
 "metadata": {
  "interpreter": {
   "hash": "5a47bc436338522316c19d32302f1310671eb64ce2c075643d095463d867d9ed"
  },
  "kernelspec": {
   "display_name": "Python 3.8.5 64-bit ('copilot-2-PO7iTfBn-py3.8': poetry)",
   "name": "python3"
  },
  "language_info": {
   "codemirror_mode": {
    "name": "ipython",
    "version": 3
   },
   "file_extension": ".py",
   "mimetype": "text/x-python",
   "name": "python",
   "nbconvert_exporter": "python",
   "pygments_lexer": "ipython3",
   "version": "3.8.5"
  },
  "orig_nbformat": 4
 },
 "nbformat": 4,
 "nbformat_minor": 2
}
